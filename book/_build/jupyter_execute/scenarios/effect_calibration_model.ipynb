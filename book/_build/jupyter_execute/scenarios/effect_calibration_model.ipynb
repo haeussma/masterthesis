{
 "cells": [
  {
   "cell_type": "markdown",
   "metadata": {},
   "source": [
    "# Effect of calibration equation on kinetic parameters\n",
    "\n",
    "In this analysis the influence of calibration model selection on the resulting parameters should was investigated. Each parameter estimation scenario in this work relies on the conversion from absorption data into concentration data. Therefore, a standard of the analyte, which was used to measure the enzyme activty, was provided with each kinetic experiment. Usually, a linear relationship between the absobance signal and concentration is assumed by experimentalists. Therefore, a linear calibration is applied. \n",
    "\n",
    "Experimentalists often restrict themselfs to only use the so called 'linear' range of the photometer below an absorption of 1. Thus, sacrificing a significant ammount of the measurement range of the analytical device. \n",
    "\n",
    "## Data\n",
    "- chymotrypsin\n",
    "- SLAC\n",
    "- trametes\n",
    "- glucosidase\n",
    "- \n",
    "\n"
   ]
  },
  {
   "cell_type": "markdown",
   "metadata": {},
   "source": [
    "## Calibration\n",
    "\n",
    "## Inactivation"
   ]
  },
  {
   "cell_type": "markdown",
   "metadata": {},
   "source": [
    "### Effekt of calibration temperature and pH on kinetic parameters"
   ]
  },
  {
   "cell_type": "code",
   "execution_count": null,
   "metadata": {},
   "outputs": [],
   "source": [
    "enzmldoc = enzmldoc_absorption_dict[\"3.0 45.0\"]\n",
    "\n",
    "standards_variations = list(filter(lambda x: x.calibration_data.pH == 3.0, standard_list))\n",
    "[standards_variations.append(x) for x in list(filter(lambda x: x.calibration_data.temperature == 45 and x.calibration_data.pH < 6, standard_list))];\n"
   ]
  },
  {
   "cell_type": "code",
   "execution_count": null,
   "metadata": {},
   "outputs": [],
   "source": [
    "\n",
    "kinetics = []\n",
    "for standard in standards_variations:\n",
    "    print(copy.__file__)\n",
    "    doc = copy.deepcopy(enzmldoc)\n",
    "    standard.apply_to_EnzymeML(doc, species_id=\"s0\", ommit_nan_measurements=True)\n",
    "    kinetic = (ParameterEstimator.from_EnzymeML(doc, reactant_id=\"s0\", measured_species=\"substrate\"))\n",
    "    kinetic.fit_models(enzyme_inactivation=True, only_irrev_MM=True)\n",
    "    kinetics.append(kinetic)\n",
    "\n",
    "\n"
   ]
  },
  {
   "cell_type": "markdown",
   "metadata": {},
   "source": [
    "## Using linear calibration instead of 3rd polynominal model\n"
   ]
  },
  {
   "cell_type": "code",
   "execution_count": null,
   "metadata": {},
   "outputs": [],
   "source": [
    "models = [None, \"Linear\"]\n",
    "kinetics=[]\n",
    "for model in models:\n",
    "    print(copy.__file__)\n",
    "    doc = copy.deepcopy(enzmldoc)\n",
    "    standards_variations[4].apply_to_EnzymeML(doc, species_id=\"s0\", ommit_nan_measurements=True, model_name=model)\n",
    "    kinetic = (ParameterEstimator.from_EnzymeML(doc, reactant_id=\"s0\", measured_species=\"substrate\"))\n",
    "    kinetic.fit_models(enzyme_inactivation=True, only_irrev_MM=True)\n",
    "    kinetics.append(kinetic)\n",
    "\n",
    "# Get kinetic parameters of all datasets\n",
    "kcat = []\n",
    "kcat_std = []\n",
    "Km = []\n",
    "Km_std = []\n",
    "ki = []\n",
    "ki_std = []\n",
    "temperature = [45,45]\n",
    "pH = [3,3]\n",
    "for result in kinetics:\n",
    "    params = result.get_parameter_dict()\n",
    "\n",
    "    kcat.append(params[\"k_cat\"].value)\n",
    "    kcat_std.append(params[\"k_cat\"].stderr)\n",
    "\n",
    "    Km.append(params[\"Km\"].value)\n",
    "    Km_std.append(params[\"Km\"].stderr)\n",
    "\n",
    "    ki.append(params[\"K_ie\"].value)\n",
    "    ki_std.append(params[\"K_ie\"].stderr)\n",
    "\n",
    "\n",
    "df = pd.DataFrame.from_dict({\n",
    "    'pH':pH, \n",
    "    \"temperature\":temperature, \n",
    "    'kcat [1/s]':kcat, \n",
    "    'kcat stderr':kcat_std, \n",
    "    'Km [uM]':Km, \n",
    "    'Km stderr':Km_std, \n",
    "    \"Enzyme inactivation [1/s]\":ki,\n",
    "    \"Enzyme inactivation std\":ki_std})\n",
    "\n",
    "df[\"kcat/Km\"] = df[\"kcat [1/s]\"] / df[\"Km [uM]\"]\n",
    "kcat_km_stderr =((df[\"kcat stderr\"]/df[\"kcat [1/s]\"])**2+(df[\"Km stderr\"]/df[\"Km [uM]\"])**2)**0.5 * df[\"kcat/Km\"]\n",
    "df[\"kcat/Km stderr\"] = kcat_km_stderr\n",
    "\n",
    "ph_map = sns.color_palette(\"husl\")\n",
    "ph_colors = [ph_map[(x)] for x in np.arange(6)]\n",
    "pH_dict = dict(zip([3.0, 3.5, 4.0, 4.5, 5.0, 5.5], ph_colors))\n",
    "pH_tuples = [pH_dict[x] for x in df[\"pH\"].values]\n",
    "\n",
    "temperature_map = matplotlib.cm.get_cmap('coolwarm')\n",
    "colors = [temperature_map(x) for x in np.linspace(0,1,5)]\n",
    "color_dict = dict(zip([25, 30, 35, 40 ,45], colors))\n",
    "color_tuples = [color_dict[x] for x in df[\"temperature\"]]\n",
    "\n",
    "ax = plt.gca()\n",
    "for i, (km, kcat, km_error, kcat_error, color, label) in enumerate(zip(df[\"Km [uM]\"], df[\"kcat [1/s]\"], df[\"Km stderr\"], df[\"kcat stderr\"], pH_tuples, df[\"pH\"].values)):\n",
    "\n",
    "    ax.scatter(km, kcat, color = color, label = label if not i % 5 else \"\")\n",
    "    ax.errorbar(km, kcat, yerr=kcat_error,xerr=km_error, fmt=\".\", ecolor=color, markersize=0)\n",
    "plt.legend(title = \"pH\")\n",
    "plt.ylabel(\"kcat [1/s]\")\n",
    "plt.xlabel(\"Km [uM]\")\n",
    "plt.xlim([0,200])"
   ]
  },
  {
   "cell_type": "code",
   "execution_count": null,
   "metadata": {},
   "outputs": [],
   "source": [
    "subset_enzymeml = [copy.deepcopy(x) for x in enzmldoc_absorption_dict.values() if x.getReaction(\"r0\").temperature == 45]\n",
    "models = [None, \"Linear\"]\n",
    "calibration_data = [x for x in standard_curve_dict.values() if x.calibration_data.temperature == 45 and x.calibration_data.pH < 6]\n",
    "applied_model = {\"best model\": None, \"Linear\": \"Linear\"}\n",
    "\n",
    "kinetics = []\n",
    "model_names = []\n",
    "for doc, standard in zip(subset_enzymeml, calibration_data):\n",
    "    for name, value in applied_model.items():\n",
    "        d = copy.deepcopy(doc)\n",
    "        standard.apply_to_EnzymeML(d, species_id=\"s0\", ommit_nan_measurements=True, model_name=value)\n",
    "        kinetic = (ParameterEstimator.from_EnzymeML(d, reactant_id=\"s0\", measured_species=\"substrate\"))\n",
    "        kinetic.fit_models(enzyme_inactivation=True, only_irrev_MM=True);\n",
    "        kinetics.append(kinetic)\n",
    "        kinetic.visualize()\n",
    "        model_names.append(name)\n",
    "\n",
    "\n",
    "\n",
    "model_names\n"
   ]
  },
  {
   "cell_type": "code",
   "execution_count": null,
   "metadata": {},
   "outputs": [],
   "source": [
    "kcat = []\n",
    "kcat_std = []\n",
    "Km = []\n",
    "Km_std = []\n",
    "ki = []\n",
    "ki_std = []\n",
    "temp = []\n",
    "calibration_model = np.tile(np.array([\"best model\", \"linear calibration\"]), 6)\n",
    "pH = np.repeat(np.array([3,3.5,4,4.5,5,5.5]), 2)\n",
    "for result in kinetics:\n",
    "    params = result.get_parameter_dict()\n",
    "    temp.append(result.data.temperature)\n",
    "\n",
    "    kcat.append(params[\"k_cat\"].value)\n",
    "    kcat_std.append(params[\"k_cat\"].stderr)\n",
    "\n",
    "    Km.append(params[\"Km\"].value)\n",
    "    Km_std.append(params[\"Km\"].stderr)\n",
    "\n",
    "    ki.append(params[\"K_ie\"].value)\n",
    "    ki_std.append(params[\"K_ie\"].stderr)\n",
    "\n",
    "\n",
    "df = pd.DataFrame.from_dict({\n",
    "    'pH':pH, \n",
    "    \"calibration model\":calibration_model, \n",
    "    'kcat [1/s]':kcat, \n",
    "    'kcat stderr':kcat_std, \n",
    "    'Km [uM]':Km, \n",
    "    'Km stderr':Km_std, \n",
    "    \"Enzyme inactivation [1/s]\":ki,\n",
    "    \"temperature\": temp,\n",
    "    \"Enzyme inactivation std\":ki_std})\n",
    "\n",
    "df[\"kcat/Km\"] = df[\"kcat [1/s]\"] / df[\"Km [uM]\"]\n",
    "kcat_km_stderr =((df[\"kcat stderr\"]/df[\"kcat [1/s]\"])**2+(df[\"Km stderr\"]/df[\"Km [uM]\"])**2)**0.5 * df[\"kcat/Km\"]\n",
    "df[\"kcat/Km stderr\"] = kcat_km_stderr\n",
    "\n",
    "df\n",
    "        "
   ]
  },
  {
   "cell_type": "code",
   "execution_count": null,
   "metadata": {},
   "outputs": [],
   "source": [
    "ph_map = sns.color_palette(\"husl\")\n",
    "ph_colors = [ph_map[(x)] for x in np.arange(6)]\n",
    "pH_dict = dict(zip([3.0, 3.5, 4.0, 4.5, 5.0, 5.5], ph_colors))\n",
    "pH_tuples = [pH_dict[x] for x in df[\"pH\"].values]\n",
    "\n",
    "temperature_map = matplotlib.cm.get_cmap('coolwarm')\n",
    "colors = [temperature_map(x) for x in np.linspace(0,1,5)]\n",
    "color_dict = dict(zip([25, 30, 35, 40 ,45], colors))\n",
    "color_tuples = [color_dict[x] for x in df[\"temperature\"]]\n",
    "\n",
    "cools = [\"b\", \"orange\", \"b\", \"orange\",\"b\", \"orange\",\"b\", \"orange\",\"b\", \"orange\",\"b\", \"orange\"]\n",
    "\n",
    "ax = plt.gca()\n",
    "for i, (kcatkm, kcatkm_error, temp, color, label) in enumerate(zip(df[\"kcat [1/s]\"], df[\"kcat stderr\"], df[\"pH\"] , cools, df[\"calibration model\"].values)):\n",
    "\n",
    "    ax.scatter(temp, kcatkm, color = color, label = label if i in [0,1] else \"\")\n",
    "    ax.errorbar(temp, kcatkm, yerr=kcatkm_error, fmt=\".\", color= color, markersize=0)\n",
    "plt.legend(title = \"calibration model\")\n",
    "plt.ylabel(\"kcat/Km [1/s * uM]\")\n",
    "plt.xlabel(\"pH\")\n",
    "plt.title(\"Datasets of various pHs and 45°C calibrated with different standard curve fits\")"
   ]
  },
  {
   "cell_type": "code",
   "execution_count": null,
   "metadata": {},
   "outputs": [],
   "source": [
    "enzmldoc = concentration_enzymemldocs[4]\n",
    "\n",
    "kinetics = ParameterEstimator.from_EnzymeML(enzmldoc, \"s0\", \"substrate\")\n",
    "kinetics.fit_models(only_irrev_MM=True, enzyme_inactivation=False)\n",
    "kinetics.visualize()"
   ]
  }
 ],
 "metadata": {
  "kernelspec": {
   "display_name": "Python 3.10.4 ('animl')",
   "language": "python",
   "name": "python3"
  },
  "language_info": {
   "name": "python",
   "version": "3.10.4 (main, Mar 31 2022, 03:38:35) [Clang 12.0.0 ]"
  },
  "vscode": {
   "interpreter": {
    "hash": "2fd4de28998151e690b872df7f91ab2b2951999bddd408373c1a1994a4c10950"
   }
  }
 },
 "nbformat": 4,
 "nbformat_minor": 2
}