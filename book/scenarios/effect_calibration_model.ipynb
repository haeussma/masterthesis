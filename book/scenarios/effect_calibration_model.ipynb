{
 "cells": [
  {
   "cell_type": "markdown",
   "metadata": {},
   "source": [
    "# Effect of absorption - concentration model on kinetic parameters\n",
    "\n",
    "\n",
    "In this analysis the influence of calibration model selection on the resulting parameters should was investigated. Each parameter estimation scenario in this work relies on the conversion from absorption data into concentration data. Therefore, a standard of the analyte, which was used to measure the enzyme activty, was provided with each kinetic experiment. Usually, a linear relationship between the absobance signal and concentration is assumed by experimentalists. Therefore, a linear calibration is applied. \n",
    "\n",
    "Experimentalists often restrict themselfs to only use the so called 'linear' range of the photometer below an absorption of 1. Thus, sacrificing a significant ammount of the measurement range of the analytical device. \n",
    "\n"
   ]
  },
  {
   "cell_type": "code",
   "execution_count": null,
   "metadata": {},
   "outputs": [],
   "source": []
  }
 ],
 "metadata": {
  "kernelspec": {
   "display_name": "Python 3.10.4 ('animl')",
   "language": "python",
   "name": "python3"
  },
  "language_info": {
   "name": "python",
   "version": "3.10.4"
  },
  "orig_nbformat": 4,
  "vscode": {
   "interpreter": {
    "hash": "2fd4de28998151e690b872df7f91ab2b2951999bddd408373c1a1994a4c10950"
   }
  }
 },
 "nbformat": 4,
 "nbformat_minor": 2
}
